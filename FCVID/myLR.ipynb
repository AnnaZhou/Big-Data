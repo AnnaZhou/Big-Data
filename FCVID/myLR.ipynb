import BIDMat.{CMat,CSMat,DMat,Dict,IDict,FMat,GMat,GIMat,GSMat,HMat,IMat,Mat,SMat,SBMat,SDMat}
import BIDMat.MatFunctions._
import BIDMat.SciFunctions._
import BIDMat.Solvers._
import BIDMat.Plotting._
import BIDMach.Learner
import BIDMach.models.{FM,GLM,KMeans,LDA,LDAgibbs,NMF,SFA}
import BIDMach.datasources.{MatDS,FilesDS,SFilesDS}
import BIDMach.mixins.{CosineSim,Perplexity,Top,L1Regularizer,L2Regularizer}
import BIDMach.updaters.{ADAGrad,Batch,BatchNorm,IncMult,IncNorm,Telescoping}
import BIDMach.causal.{IPTW}

Mat.checkMKL
Mat.checkCUDA
if (Mat.hasCUDA > 0) GPUmem

val dict = "/Users/Anna/workspace/BIDMach/data/class2.txt"
val rpath = "/Users/Anna/workspace/BIDMach/data/cat2.txt"
var aa=loadFMat(dict)
var c =loadFMat(rpath)
var b=aa.t
var d = c
var index = 1;
//for(index <- 1 to 171){
//var aa = loadFMat(dict+"fc8/"+index+".txt")
//var c = loadFMat(dict+"fc8/c"+index+".txt")
//var b = loadFMat(dict+"testfc8.txt")
//var d = loadFMat(dict+"wltestcatall.txt")
//val dict = "/Users/Anna/workspace/BIDMach_1.0.0-full-linux-x86_64/data/uci/"
//val aa = loadFMat(dict+"arabic.fmat.lz4")
//val c = loadFMat(dict+"arabic_cats.fmat.lz4")
var a = aa.t   
var atrain = a //a(?,(100->a.ncols))
var atest =  b //a(?,(0->100))
var ctrain = c //c(?,(100->a.ncols))
var ctest = d //c(?,(0->100))
//max(atrain, 0.001, atrain)                       // the first "traindata" argument is the input, the other is output
//max(atest, 0.001, atest)

val cx=zeros(2,ctest.ncols)
val (mm,mopts,nn,nopts)=GLM.learner(atrain,ctrain,atest,cx,3)
mopts.autoReset=false
mopts.useGPU=false
mopts.lrate=0.1
mopts.batchSize=2
mopts.dim=256
mopts.startBlock=0
mopts.npasses=10
mopts.updateAll=false
mm.train;
nn.predict;

val cx1=cx
min(cx1, 1, cx1)                       // the first "traindata" argument is the input, the other is output
max(cx1, 0, cx1) 
val p=ctest *@cx1 +(1-ctest) *@(1-cx1)
mean(p,2)
